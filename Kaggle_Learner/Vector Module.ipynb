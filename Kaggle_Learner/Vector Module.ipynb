{
 "cells": [
  {
   "cell_type": "code",
   "execution_count": 140,
   "metadata": {},
   "outputs": [],
   "source": [
    "from math import sqrt\n",
    "\n",
    "class Vector():\n",
    "    \"\"\"Vector Module, you can use this class to plus, minus and scalar multiply\"\"\"\n",
    "    def __init__(self, coordinates):\n",
    "        try:\n",
    "            if not coordinates:\n",
    "                raise ValueError\n",
    "            self.coordinates = tuple(coordinates)\n",
    "            self.dimension = len(coordinates)\n",
    "            \n",
    "        except ValueError:\n",
    "            raise ValueError('The coordinates must be nonempty')\n",
    "            \n",
    "        except TypeError:\n",
    "            raise TypeError('The coordinates must be an iterable')\n",
    "    \n",
    "    def plus(self, v):\n",
    "        new_corrdinates = [x+y for (x,y) in zip(self.coordinates, v.coordinates)]\n",
    "        return Vector(new_corrdinates)\n",
    "    \n",
    "    def minus(self, v):\n",
    "        new_corrdinates = [x-y for (x,y) in zip(self.coordinates, v.coordinates)]\n",
    "        return Vector(new_corrdinates)\n",
    "    \n",
    "    def times_scalar(self, c):\n",
    "        new_corrdinates = [c*x for x in self.coordinates]\n",
    "        return Vector(new_corrdinates)\n",
    "    \n",
    "    def magnitude(self):\n",
    "        new_magnitude = [x**2 for x in self.coordinates]\n",
    "        new_magnitude = sqrt(sum(new_magnitude))\n",
    "        return new_magnitude\n",
    "    \n",
    "    def normalized(self):\n",
    "        try:\n",
    "            magnitude = self.magnitude()\n",
    "            return self.times_scalar(1./magnitude)\n",
    "        \n",
    "        except ZeroDivisionError:\n",
    "            raise Exception('Cannot normalize the Zero vector')\n",
    "            \n",
    "    def __str__(self):\n",
    "        return 'Vector: {}'.format(self.coordinates)\n",
    "    \n",
    "    def __eq__(self, v):\n",
    "        return self.coordinates == v.coordinates"
   ]
  },
  {
   "cell_type": "code",
   "execution_count": 143,
   "metadata": {},
   "outputs": [
    {
     "name": "stdout",
     "output_type": "stream",
     "text": [
      "Vector: (3, 5, 7)\n",
      "Vector: (-1, -1, -1)\n",
      "Vector: (2, 4, 6)\n",
      "3.7416573867739413\n",
      "Vector: (0.2672612419124244, 0.5345224838248488, 0.8017837257372732)\n"
     ]
    }
   ],
   "source": [
    "v = Vector([1,2,3])\n",
    "w = Vector([2,3,4])\n",
    "print(v.plus(w))\n",
    "print(v.minus(w))\n",
    "print(v.times_scalar(2))\n",
    "print(v.magnitude())\n",
    "print(v.normalized())"
   ]
  },
  {
   "cell_type": "code",
   "execution_count": 133,
   "metadata": {},
   "outputs": [],
   "source": [
    "a = tuple([1,2,3])\n",
    "b = tuple([2,3,4])\n",
    "c = list(a)\n",
    "d = list(b)\n"
   ]
  },
  {
   "cell_type": "code",
   "execution_count": 30,
   "metadata": {},
   "outputs": [
    {
     "name": "stdout",
     "output_type": "stream",
     "text": [
      "[3, 5, 7]\n"
     ]
    }
   ],
   "source": [
    "q = [(x+y) for (x,y) in zip(a,b)]\n",
    "print(q)"
   ]
  },
  {
   "cell_type": "code",
   "execution_count": null,
   "metadata": {},
   "outputs": [],
   "source": []
  }
 ],
 "metadata": {
  "kernelspec": {
   "display_name": "Python 3",
   "language": "python",
   "name": "python3"
  },
  "language_info": {
   "codemirror_mode": {
    "name": "ipython",
    "version": 3
   },
   "file_extension": ".py",
   "mimetype": "text/x-python",
   "name": "python",
   "nbconvert_exporter": "python",
   "pygments_lexer": "ipython3",
   "version": "3.6.7"
  }
 },
 "nbformat": 4,
 "nbformat_minor": 2
}
