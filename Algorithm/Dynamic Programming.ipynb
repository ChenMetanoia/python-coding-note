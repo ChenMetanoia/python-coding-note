{
 "cells": [
  {
   "cell_type": "markdown",
   "metadata": {},
   "source": [
    "__It is my first time to use Markdown to write Algorithm documentation, which is exciting!__\n",
    "\n",
    "__The [handbook](https://daringfireball.net/projects/markdown/syntax#overview) of Markdown__\n",
    "\n",
    "__*Yay!!!!!!!!*__\n",
    "\n",
    "<span style=\"color:red\">TEST **This is Red Bold.** text</span>\n",
    "* * *"
   ]
  },
  {
   "cell_type": "code",
   "execution_count": 7,
   "metadata": {},
   "outputs": [],
   "source": [
    "import timeit"
   ]
  },
  {
   "cell_type": "markdown",
   "metadata": {},
   "source": [
    "## 1. Dynamic Programming\n",
    "\n",
    "> [Dynamic Programming](https://en.wikipedia.org/wiki/Dynamic_programming) refers to simplifying a complicated problem by breaking it down into simper sub problems in a [recurrsive](https://en.wikipedia.org/wiki/Recursion) manner\n",
    "\n"
   ]
  },
  {
   "cell_type": "markdown",
   "metadata": {},
   "source": [
    "### (1) Finonacci Series"
   ]
  },
  {
   "cell_type": "markdown",
   "metadata": {},
   "source": [
    "#### a) Intuitive Way"
   ]
  },
  {
   "cell_type": "code",
   "execution_count": 2,
   "metadata": {},
   "outputs": [],
   "source": [
    "def fib(n):\n",
    "    \"\"\"Return Fibonacci Series. fib(0) = 0, fib(1) = 1, \n",
    "    While n >= 1, fib(n) = fin(n-2) + fib(n-1)\n",
    "    \n",
    "    >>> fib(10)\n",
    "    55\n",
    "    \"\"\"\n",
    "    if n <= 1:\n",
    "        return n\n",
    "    return fib(n-2) + fib(n-1)"
   ]
  },
  {
   "cell_type": "code",
   "execution_count": 3,
   "metadata": {},
   "outputs": [
    {
     "name": "stdout",
     "output_type": "stream",
     "text": [
      "55\n"
     ]
    }
   ],
   "source": [
    "print(fib(10))"
   ]
  },
  {
   "cell_type": "code",
   "execution_count": 4,
   "metadata": {},
   "outputs": [
    {
     "name": "stdout",
     "output_type": "stream",
     "text": [
      "Help on function fib in module __main__:\n",
      "\n",
      "fib(n)\n",
      "    Return Fibonacci Series. fib(0) = 0, fib(1) = 1, \n",
      "    While n >= 1, fib(n) = fin(n-2) + fib(n-1)\n",
      "    \n",
      "    >>> fib(10)\n",
      "    55\n",
      "\n"
     ]
    }
   ],
   "source": [
    "help(fib)"
   ]
  },
  {
   "cell_type": "markdown",
   "metadata": {},
   "source": [
    "<span style=\"color:red\"> **Warning!!!** </span>In intuitive way, we could compute *n* paramter added by *n-1* and *n-2*. It is okey if the recursion is low, but when the recursion is high, the efficiency will be low because we recomputed too many redundant values. The time complexity is __O(n^2)__."
   ]
  },
  {
   "cell_type": "code",
   "execution_count": 8,
   "metadata": {},
   "outputs": [
    {
     "name": "stdout",
     "output_type": "stream",
     "text": [
      "9227465\n",
      "Time:  3.1925346799835097\n"
     ]
    }
   ],
   "source": [
    "start = timeit.default_timer()\n",
    "print(fib(35))\n",
    "stop = timeit.default_timer()\n",
    "print('Time: ', stop - start)  "
   ]
  },
  {
   "cell_type": "markdown",
   "metadata": {},
   "source": [
    "#### b) Memorize Solution"
   ]
  },
  {
   "cell_type": "code",
   "execution_count": 13,
   "metadata": {},
   "outputs": [],
   "source": [
    "def fib_2(n, memo):\n",
    "    if memo[n] is not None:\n",
    "        return memo[n]\n",
    "    if n == 1 or n == 2:\n",
    "        result = 1\n",
    "    else:\n",
    "        result = fib_2(n-1, memo) + fib_2(n-2, memo)\n",
    "    memo[n] = result\n",
    "    return result\n",
    "\n",
    "def fib_memo(n):\n",
    "    memo = [None] * (n + 1)\n",
    "    return fib_2(n, memo)"
   ]
  },
  {
   "cell_type": "code",
   "execution_count": 19,
   "metadata": {},
   "outputs": [
    {
     "name": "stdout",
     "output_type": "stream",
     "text": [
      "9227465\n",
      "Time:  0.0001351409882772714\n"
     ]
    }
   ],
   "source": [
    "start = timeit.default_timer()\n",
    "print(fib_memo(35))\n",
    "stop = timeit.default_timer()\n",
    "print('Time: ', stop - start)  "
   ]
  },
  {
   "cell_type": "markdown",
   "metadata": {},
   "source": [
    "#### c) Bottom-Up Approach"
   ]
  },
  {
   "cell_type": "code",
   "execution_count": 20,
   "metadata": {},
   "outputs": [],
   "source": [
    "def fib_iterative(n):\n",
    "    \"\"\"Return Fibonacci Series by iterativa method. fib_iterative(0) = 0, fib_iterative(1) = 1, \n",
    "    While n >= 1, fib_iterative(n) = fin_iterative(n-2) + fib_iterative(n-1)\n",
    "    \n",
    "    >>> fib_iterative(10)\n",
    "    55\n",
    "    \"\"\"\n",
    "    F = [None] * (n+1)\n",
    "    if n <= 1:\n",
    "        return n\n",
    "    \n",
    "    F[0] = 0\n",
    "    F[1] = 1\n",
    "    for i in range(2,n+1):\n",
    "        F[i] = F[i-2] + F[i-1]\n",
    "    return F[n]"
   ]
  },
  {
   "cell_type": "code",
   "execution_count": 21,
   "metadata": {},
   "outputs": [
    {
     "data": {
      "text/plain": [
       "55"
      ]
     },
     "execution_count": 21,
     "metadata": {},
     "output_type": "execute_result"
    }
   ],
   "source": [
    "fib_iterative(10)"
   ]
  },
  {
   "cell_type": "code",
   "execution_count": 24,
   "metadata": {},
   "outputs": [
    {
     "name": "stdout",
     "output_type": "stream",
     "text": [
      "43466557686937456435688527675040625802564660517371780402481729089536555417949051890403879840079255169295922593080322634775209689623239873322471161642996440906533187938298969649928516003704476137795166849228875\n",
      "Time:  0.0003385529853403568\n"
     ]
    }
   ],
   "source": [
    "start = timeit.default_timer()\n",
    "print(fib_iterative(1000))\n",
    "stop = timeit.default_timer()\n",
    "print('Time: ', stop - start) "
   ]
  },
  {
   "cell_type": "markdown",
   "metadata": {},
   "source": [
    "As you can see, if we store the history computed result in the list, the time complexity will be reduced dramatically. Because we do not have to recompute previous result and every parameter we only need to calculate at once. The time complexity is __O(n)__."
   ]
  },
  {
   "cell_type": "markdown",
   "metadata": {},
   "source": [
    "### (2) Dynamic Progamming Interview Question\n",
    "\n",
    "If we have a list \\[2, 4, 6, 10\\], and we try to find the total number subset which could combine into the particular number.\n",
    "\n",
    "For example, __Input = 10__, __Output = 2__. Because there are two suitable subsets: \\[4, 6\\] and \\[10\\], both subsets' combinations are 10.\n",
    "\n",
    "Extra condiftions:\n",
    "    1. Every integer in the list is unique;\n",
    "    2. No negative integer;\n",
    "    3. If cannot find subset, the ourput should be 1, because empty set."
   ]
  },
  {
   "cell_type": "code",
   "execution_count": 35,
   "metadata": {},
   "outputs": [],
   "source": [
    "def count_sets(arr, total):\n",
    "    return rec(arr, total, len(arr) - 1)\n",
    "\n",
    "\n",
    "def rec(arr, total, i):\n",
    "    if total == 0:\n",
    "        return 1\n",
    "    elif total < 0:\n",
    "        return 0\n",
    "    elif i < 0:\n",
    "        return 0\n",
    "    elif total < arr[i]:\n",
    "        return rec(arr, total, i - 1)\n",
    "    else:\n",
    "        return  rec(arr, total - arr[i], i - 1) + rec(arr, total, i - 1)"
   ]
  },
  {
   "cell_type": "code",
   "execution_count": 40,
   "metadata": {},
   "outputs": [
    {
     "data": {
      "text/plain": [
       "2"
      ]
     },
     "execution_count": 40,
     "metadata": {},
     "output_type": "execute_result"
    }
   ],
   "source": [
    "arr = [2,4,6,10]\n",
    "count_sets(arr, 16)"
   ]
  },
  {
   "cell_type": "code",
   "execution_count": null,
   "metadata": {},
   "outputs": [],
   "source": []
  }
 ],
 "metadata": {
  "kernelspec": {
   "display_name": "Python 3",
   "language": "python",
   "name": "python3"
  },
  "language_info": {
   "codemirror_mode": {
    "name": "ipython",
    "version": 3
   },
   "file_extension": ".py",
   "mimetype": "text/x-python",
   "name": "python",
   "nbconvert_exporter": "python",
   "pygments_lexer": "ipython3",
   "version": "3.6.6"
  }
 },
 "nbformat": 4,
 "nbformat_minor": 2
}
