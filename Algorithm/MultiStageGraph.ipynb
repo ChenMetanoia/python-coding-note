{
 "cells": [
  {
   "cell_type": "code",
   "execution_count": 5,
   "metadata": {},
   "outputs": [
    {
     "name": "stdout",
     "output_type": "stream",
     "text": [
      "9\n"
     ]
    }
   ],
   "source": [
    "c = [[0,0,0,0,0,0,0,0,0],\n",
    "     [0,0,2,1,3,0,0,0,0],\n",
    "     [0,0,0,0,0,2,3,0,0],\n",
    "     [0,0,0,0,0,6,7,0,0],\n",
    "     [0,0,0,0,0,6,8,9,0],\n",
    "     [0,0,0,0,0,0,0,0,6],\n",
    "     [0,0,0,0,0,0,0,0,4],\n",
    "     [0,0,0,0,0,0,0,0,5],\n",
    "     [0,0,0,0,0,0,0,0,0]]"
   ]
  },
  {
   "cell_type": "code",
   "execution_count": 32,
   "metadata": {},
   "outputs": [],
   "source": [
    "stage = 4\n",
    "n = len(c) - 1\n",
    "cost = [0] * len(c)\n",
    "d = [0] * len(c)\n",
    "path = [0] * (stage + 1)\n",
    "cost[n] = 0"
   ]
  },
  {
   "cell_type": "code",
   "execution_count": 33,
   "metadata": {},
   "outputs": [],
   "source": [
    "for i in range(n-1, 0, -1):\n",
    "    min = 32767\n",
    "    for k in range(i+1, n+1):\n",
    "        if c[i][k] != 0 and (c[i][k] + cost[k]) < min:\n",
    "            min = c[i][k] + cost[k]\n",
    "            d[i] = k\n",
    "    cost[i] = min"
   ]
  },
  {
   "cell_type": "code",
   "execution_count": 34,
   "metadata": {},
   "outputs": [],
   "source": [
    "path[1] = 1\n",
    "path[stage] = n\n",
    "for i in range(2,stage):\n",
    "    path[i] = d[path[i-1]]"
   ]
  },
  {
   "cell_type": "code",
   "execution_count": 35,
   "metadata": {},
   "outputs": [
    {
     "name": "stdout",
     "output_type": "stream",
     "text": [
      "cost: [0, 9, 7, 11, 12, 6, 4, 5, 0]\n",
      "d: [0, 2, 6, 6, 5, 8, 8, 8, 0]\n",
      "path: [0, 1, 2, 6, 8]\n"
     ]
    }
   ],
   "source": [
    "print(\"cost:\", cost)\n",
    "print(\"d:\", d)\n",
    "print(\"path:\", path)"
   ]
  },
  {
   "cell_type": "code",
   "execution_count": null,
   "metadata": {},
   "outputs": [],
   "source": []
  }
 ],
 "metadata": {
  "kernelspec": {
   "display_name": "Python 3",
   "language": "python",
   "name": "python3"
  },
  "language_info": {
   "codemirror_mode": {
    "name": "ipython",
    "version": 3
   },
   "file_extension": ".py",
   "mimetype": "text/x-python",
   "name": "python",
   "nbconvert_exporter": "python",
   "pygments_lexer": "ipython3",
   "version": "3.6.6"
  }
 },
 "nbformat": 4,
 "nbformat_minor": 2
}
